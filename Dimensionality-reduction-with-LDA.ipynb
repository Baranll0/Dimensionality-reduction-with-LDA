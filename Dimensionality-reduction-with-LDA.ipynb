{
 "cells": [
  {
   "cell_type": "markdown",
   "id": "7959bd78",
   "metadata": {},
   "source": []
  },
  {
   "cell_type": "markdown",
   "id": "0305eeca",
   "metadata": {},
   "source": [
    "#### Örnek Veri Setinin Hazırlanması\n",
    "Iris veri seti, üç farklı türden 150 iris çiçeğinin ölçümlerini içerir.\n",
    "\n",
    "###### Iris veri kümesindeki üç sınıf:<br>\n",
    "\n",
    "###### Iris-setosa(n=50)<br>\n",
    "###### Iris-versicolor(n=50)<br>\n",
    "###### Iris-virginica(n=50)<br>"
   ]
  },
  {
   "cell_type": "markdown",
   "id": "154dbdbf",
   "metadata": {},
   "source": [
    "![](https://i.imgur.com/GGGCzaa.png)"
   ]
  },
  {
   "cell_type": "code",
   "execution_count": 2,
   "id": "17cad551",
   "metadata": {},
   "outputs": [],
   "source": [
    "feature_dict = {i:label for i,label in zip(\n",
    "                range(4),\n",
    "                  ('sepal length in cm',\n",
    "                  'sepal width in cm',\n",
    "                  'petal length in cm',\n",
    "                  'petal width in cm', ))}\n"
   ]
  },
  {
   "cell_type": "code",
   "execution_count": 3,
   "id": "7653a99c",
   "metadata": {},
   "outputs": [
    {
     "data": {
      "text/html": [
       "<div>\n",
       "<style scoped>\n",
       "    .dataframe tbody tr th:only-of-type {\n",
       "        vertical-align: middle;\n",
       "    }\n",
       "\n",
       "    .dataframe tbody tr th {\n",
       "        vertical-align: top;\n",
       "    }\n",
       "\n",
       "    .dataframe thead th {\n",
       "        text-align: right;\n",
       "    }\n",
       "</style>\n",
       "<table border=\"1\" class=\"dataframe\">\n",
       "  <thead>\n",
       "    <tr style=\"text-align: right;\">\n",
       "      <th></th>\n",
       "      <th>sepal length in cm</th>\n",
       "      <th>sepal width in cm</th>\n",
       "      <th>petal length in cm</th>\n",
       "      <th>petal width in cm</th>\n",
       "      <th>class label</th>\n",
       "    </tr>\n",
       "  </thead>\n",
       "  <tbody>\n",
       "    <tr>\n",
       "      <th>145</th>\n",
       "      <td>6.7</td>\n",
       "      <td>3.0</td>\n",
       "      <td>5.2</td>\n",
       "      <td>2.3</td>\n",
       "      <td>Iris-virginica</td>\n",
       "    </tr>\n",
       "    <tr>\n",
       "      <th>146</th>\n",
       "      <td>6.3</td>\n",
       "      <td>2.5</td>\n",
       "      <td>5.0</td>\n",
       "      <td>1.9</td>\n",
       "      <td>Iris-virginica</td>\n",
       "    </tr>\n",
       "    <tr>\n",
       "      <th>147</th>\n",
       "      <td>6.5</td>\n",
       "      <td>3.0</td>\n",
       "      <td>5.2</td>\n",
       "      <td>2.0</td>\n",
       "      <td>Iris-virginica</td>\n",
       "    </tr>\n",
       "    <tr>\n",
       "      <th>148</th>\n",
       "      <td>6.2</td>\n",
       "      <td>3.4</td>\n",
       "      <td>5.4</td>\n",
       "      <td>2.3</td>\n",
       "      <td>Iris-virginica</td>\n",
       "    </tr>\n",
       "    <tr>\n",
       "      <th>149</th>\n",
       "      <td>5.9</td>\n",
       "      <td>3.0</td>\n",
       "      <td>5.1</td>\n",
       "      <td>1.8</td>\n",
       "      <td>Iris-virginica</td>\n",
       "    </tr>\n",
       "  </tbody>\n",
       "</table>\n",
       "</div>"
      ],
      "text/plain": [
       "     sepal length in cm  sepal width in cm  petal length in cm  \\\n",
       "145                 6.7                3.0                 5.2   \n",
       "146                 6.3                2.5                 5.0   \n",
       "147                 6.5                3.0                 5.2   \n",
       "148                 6.2                3.4                 5.4   \n",
       "149                 5.9                3.0                 5.1   \n",
       "\n",
       "     petal width in cm     class label  \n",
       "145                2.3  Iris-virginica  \n",
       "146                1.9  Iris-virginica  \n",
       "147                2.0  Iris-virginica  \n",
       "148                2.3  Iris-virginica  \n",
       "149                1.8  Iris-virginica  "
      ]
     },
     "execution_count": 3,
     "metadata": {},
     "output_type": "execute_result"
    }
   ],
   "source": [
    "import pandas as pd\n",
    "\n",
    "df = pd.io.parsers.read_csv(\n",
    "    filepath_or_buffer='https://archive.ics.uci.edu/ml/machine-learning-databases/iris/iris.data',\n",
    "    header=None,\n",
    "    sep=',',\n",
    "    )\n",
    "df.columns = [l for i,l in sorted(feature_dict.items())] + ['class label']\n",
    "df.dropna(how=\"all\", inplace=True)\n",
    "\n",
    "df.tail()"
   ]
  },
  {
   "cell_type": "markdown",
   "id": "27a94cf1",
   "metadata": {},
   "source": [
    "![link](https://i.imgur.com/P6uMAAE.png)"
   ]
  },
  {
   "cell_type": "markdown",
   "id": "ca402f99",
   "metadata": {},
   "source": [
    "Numerik değerlerle çalışmak daha uygun olduğundan, sınıf etiketlerini sayısal değerlere dönüştürmek için scikit-learn kütüphanesinden LabelEncode'i kullanacağız: 1, 2 ve 3."
   ]
  },
  {
   "cell_type": "code",
   "execution_count": 4,
   "id": "eb950611",
   "metadata": {},
   "outputs": [],
   "source": [
    "from sklearn.preprocessing import LabelEncoder\n",
    "\n",
    "X = df.iloc[:, :4].values\n",
    "y = df.iloc[:, 4].values\n",
    "\n",
    "\n",
    "enc = LabelEncoder()\n",
    "label_encoder = enc.fit(y)\n",
    "y = label_encoder.transform(y) + 1\n",
    "\n",
    "label_dict = {1: 'Setosa', 2: 'Versicolor', 3:'Virginica'}"
   ]
  },
  {
   "cell_type": "markdown",
   "id": "bfe39a8c",
   "metadata": {},
   "source": [
    "![](https://i.imgur.com/5AWx8af.png)"
   ]
  },
  {
   "cell_type": "markdown",
   "id": "476a967a",
   "metadata": {},
   "source": [
    "Histogramlar ve özellik seçimi\n",
    "\n",
    "Üç sınıf ω1, ω2 ve ω3'nün örneklerinin nasıl dağıldığını genel olarak anlamak için, dört farklı özelliğin dağılımlarını 1-boyutlu histogramlarla görselleştirelim."
   ]
  },
  {
   "cell_type": "code",
   "execution_count": 5,
   "id": "f2a2730b",
   "metadata": {},
   "outputs": [
    {
     "data": {
      "image/png": "[encoded data removed]",
      "text/plain": [
       "<Figure size 1200x600 with 4 Axes>"
      ]
     },
     "metadata": {},
     "output_type": "display_data"
    }
   ],
   "source": [
    "from matplotlib import pyplot as plt\n",
    "import numpy as np\n",
    "import math\n",
    "\n",
    "fig, axes = plt.subplots(nrows=2, ncols=2, figsize=(12,6))\n",
    "\n",
    "for ax,cnt in zip(axes.ravel(), range(4)):  \n",
    "\n",
    "    # set bin sizes\n",
    "    min_b = math.floor(np.min(X[:,cnt]))\n",
    "    max_b = math.ceil(np.max(X[:,cnt]))\n",
    "    bins = np.linspace(min_b, max_b, 25)\n",
    "\n",
    "    # plottling the histograms\n",
    "    for lab,col in zip(range(1,4), ('blue', 'red', 'green')):\n",
    "        ax.hist(X[y==lab, cnt],\n",
    "                   color=col,\n",
    "                   label='class %s' %label_dict[lab],\n",
    "                   bins=bins,\n",
    "                   alpha=0.5,)\n",
    "    ylims = ax.get_ylim()\n",
    "\n",
    "    # plot annotation\n",
    "    leg = ax.legend(loc='upper right', fancybox=True, fontsize=8)\n",
    "    leg.get_frame().set_alpha(0.5)\n",
    "    ax.set_ylim([0, max(ylims)+2])\n",
    "    ax.set_xlabel(feature_dict[cnt])\n",
    "    ax.set_title('Iris histogram #%s' %str(cnt+1))\n",
    "\n",
    "    # hide axis ticks\n",
    "    ax.tick_params(axis=\"both\", which=\"both\", bottom=\"off\", top=\"off\",  \n",
    "            labelbottom=\"on\", left=\"off\", right=\"off\", labelleft=\"on\")\n",
    "\n",
    "    # remove axis spines\n",
    "    ax.spines[\"top\"].set_visible(False)  \n",
    "    ax.spines[\"right\"].set_visible(False)\n",
    "    ax.spines[\"bottom\"].set_visible(False)\n",
    "    ax.spines[\"left\"].set_visible(False)    \n",
    "\n",
    "axes[0][0].set_ylabel('count')\n",
    "axes[1][0].set_ylabel('count')\n",
    "\n",
    "fig.tight_layout()       \n",
    "\n",
    "plt.show()"
   ]
  },
  {
   "cell_type": "markdown",
   "id": "3ce6e97d",
   "metadata": {},
   "source": [
    "Bu basit grafiksel gösterimlerden, taç-yaprak uzunlukları ve genişliklerinin üç çiçek sınıfı arasında daha iyi ayrım yapmak için daha uygun olabileceğini hemen anlayabiliriz. Uygulamada, boyut azaltmayı(burada LDA) bir projeksiyon yoluyla değil, özellik seçimi ile gerçekleştirmek daha iyi bir alternatiftir. Iris gibi düşük boyutlu veri kümeleri için, bu histogramlara bakmak oldukça bilgilendirici olabilir.\n",
    "\n",
    "Burada başka bir basit ancak çok kullanışlı teknik, özellik seçimi algoritmalarını kullanmaktadır(İleride bahsedeceğim).\n",
    "\n",
    "Hazırlık adımlarını tamamladıktan sonra, verilerimiz artık gerçek LDA için hazır durumda. Uygulamada, boyut azaltma amacıyla LDA, tipik bir makine öğrenimi veya desen sınıflandırma görevi için sadece bir başka ön işleme adımı olacak.\n"
   ]
  },
  {
   "cell_type": "markdown",
   "id": "758f8d1c",
   "metadata": {},
   "source": [
    "##### Adım 1: d-boyutlu ortalama vektörlerin hesaplanması\n",
    "\n",
    "Bu ilk adımda, 3 farklı çiçek sınıfının ortalama vektörlerini  (mᵢ, i=1,2,3) basit bir hesaplama ile başlayacağız."
   ]
  },
  {
   "cell_type": "code",
   "execution_count": 6,
   "id": "707dc0d0",
   "metadata": {},
   "outputs": [
    {
     "name": "stdout",
     "output_type": "stream",
     "text": [
      "Mean Vector class 1: [5.006 3.418 1.464 0.244]\n",
      "\n",
      "Mean Vector class 2: [5.936 2.77  4.26  1.326]\n",
      "\n",
      "Mean Vector class 3: [6.588 2.974 5.552 2.026]\n",
      "\n"
     ]
    }
   ],
   "source": [
    "np.set_printoptions(precision=4)\n",
    "\n",
    "mean_vectors = []\n",
    "for cl in range(1,4):\n",
    "    mean_vectors.append(np.mean(X[y==cl], axis=0))\n",
    "    print('Mean Vector class %s: %s\\n' %(cl, mean_vectors[cl-1]))"
   ]
  },
  {
   "cell_type": "markdown",
   "id": "4764230f",
   "metadata": {},
   "source": [
    "##### Adım 2: Scatter Matrislerinin hesaplanması\n",
    "\n",
    "Şimdi, iki adet 4x4 boyutlu matrisi hesaplayacağız. Sınıf içi ve sınıf arası saçılma matrisleri.\n",
    "\n",
    "2.1 Sınıf içi saçılma matrisi SW:\n",
    "![](https://i.imgur.com/Wkuge3M.png)"
   ]
  },
  {
   "cell_type": "code",
   "execution_count": 7,
   "id": "9caa9ae8",
   "metadata": {},
   "outputs": [
    {
     "name": "stdout",
     "output_type": "stream",
     "text": [
      "within-class Scatter Matrix:\n",
      " [[38.9562 13.683  24.614   5.6556]\n",
      " [13.683  17.035   8.12    4.9132]\n",
      " [24.614   8.12   27.22    6.2536]\n",
      " [ 5.6556  4.9132  6.2536  6.1756]]\n"
     ]
    }
   ],
   "source": [
    "S_W = np.zeros((4,4))\n",
    "for cl,mv in zip(range(1,4), mean_vectors):\n",
    "    class_sc_mat = np.zeros((4,4))                  # scatter matrix for every class\n",
    "    for row in X[y == cl]:\n",
    "        row, mv = row.reshape(4,1), mv.reshape(4,1) # make column vectors\n",
    "        class_sc_mat += (row-mv).dot((row-mv).T)\n",
    "    S_W += class_sc_mat                             # sum class scatter matrices\n",
    "print('within-class Scatter Matrix:\\n', S_W)"
   ]
  },
  {
   "cell_type": "code",
   "execution_count": null,
   "id": "665ca3a1",
   "metadata": {},
   "outputs": [],
   "source": []
  },
  {
   "cell_type": "markdown",
   "id": "5e234f14",
   "metadata": {},
   "source": [
    "###### Adım 2.1: B"
   ]
  },
  {
   "cell_type": "markdown",
   "id": "0261504a",
   "metadata": {},
   "source": [
    "Alternatif olarak, sınıf kovaryans matrislerini de hesaplayabiliriz. Bu durumda, sınıf içi saçılma matrisine ölçek faktörü 1/Ni−1 ekleyerek, denklemimiz şu şekilde olur:\n",
    "\n",
    "![](https://i.imgur.com/FQww7kl.png)\n",
    "\n",
    "burada Ni ilgili sınıfın örneklem büyüklüğüdür (burada: 50), ve bu özel durumda, tüm sınıfların aynı örneklem büyüklüğüne sahip olduğu için terim (Ni−1) kaldırılabilir.\n",
    "\n",
    "Ancak, sonuçta elde edilen özaltuzaylar aynı olacaktır (aynı özvektörler, yalnızca özdeğerler sabit bir faktör tarafından farklı bir şekilde ölçeklendirilmiştir).\n"
   ]
  },
  {
   "cell_type": "markdown",
   "id": "1039dd6a",
   "metadata": {},
   "source": [
    "###### Adım 2.2 Sınıf arası saçılma matrisi SB\n",
    "\n",
    "Sınıf arası saçılma matrisi SB, aşağıdaki denklemle hesaplanır:\n",
    "\n",
    "![](https://i.imgur.com/FmZS6nQ.png)\n",
    "\n",
    "burada m genel ortalama, ve mᵢ ve Nᵢ ilgili sınıfların örnek ortalama ve büyüklükleridir."
   ]
  },
  {
   "cell_type": "code",
   "execution_count": 8,
   "id": "f69169d6",
   "metadata": {},
   "outputs": [
    {
     "name": "stdout",
     "output_type": "stream",
     "text": [
      "between-class Scatter Matrix:\n",
      " [[ 63.2121 -19.534  165.1647  71.3631]\n",
      " [-19.534   10.9776 -56.0552 -22.4924]\n",
      " [165.1647 -56.0552 436.6437 186.9081]\n",
      " [ 71.3631 -22.4924 186.9081  80.6041]]\n"
     ]
    }
   ],
   "source": [
    "overall_mean = np.mean(X, axis=0)\n",
    "\n",
    "S_B = np.zeros((4,4))\n",
    "for i,mean_vec in enumerate(mean_vectors):  \n",
    "    n = X[y==i+1,:].shape[0]\n",
    "    mean_vec = mean_vec.reshape(4,1) # make column vector\n",
    "    overall_mean = overall_mean.reshape(4,1) # make column vector\n",
    "    S_B += n * (mean_vec - overall_mean).dot((mean_vec - overall_mean).T)\n",
    "\n",
    "print('between-class Scatter Matrix:\\n', S_B)"
   ]
  },
  {
   "cell_type": "markdown",
   "id": "f6e3f34e",
   "metadata": {},
   "source": [
    "##### Adım 3: Matris S^-1WSB için genelleştirilmiş özdeğer sorununun çözülmesi\n",
    "\n",
    "Sonraki adımda, S^(-1)WSB matrisi için genelleştirilmiş özdeğer problemi çözeceğiz ve doğrusal ayrımcıları elde edeceğiz."
   ]
  },
  {
   "cell_type": "code",
   "execution_count": 9,
   "id": "94899724",
   "metadata": {},
   "outputs": [
    {
     "name": "stdout",
     "output_type": "stream",
     "text": [
      "\n",
      "Eigenvector 1: \n",
      "[[ 0.2049]\n",
      " [ 0.3871]\n",
      " [-0.5465]\n",
      " [-0.7138]]\n",
      "Eigenvalue 1: 3.23e+01\n",
      "\n",
      "Eigenvector 2: \n",
      "[[-0.009 ]\n",
      " [-0.589 ]\n",
      " [ 0.2543]\n",
      " [-0.767 ]]\n",
      "Eigenvalue 2: 2.78e-01\n",
      "\n",
      "Eigenvector 3: \n",
      "[[-0.6493]\n",
      " [-0.0138]\n",
      " [-0.0799]\n",
      " [ 0.7562]]\n",
      "Eigenvalue 3: -4.53e-15\n",
      "\n",
      "Eigenvector 4: \n",
      "[[ 0.322 ]\n",
      " [-0.4209]\n",
      " [-0.4762]\n",
      " [ 0.7017]]\n",
      "Eigenvalue 4: 5.11e-15\n"
     ]
    }
   ],
   "source": [
    "eig_vals, eig_vecs = np.linalg.eig(np.linalg.inv(S_W).dot(S_B))\n",
    "\n",
    "for i in range(len(eig_vals)):\n",
    "    eigvec_sc = eig_vecs[:,i].reshape(4,1)   \n",
    "    print('\\nEigenvector {}: \\n{}'.format(i+1, eigvec_sc.real))\n",
    "    print('Eigenvalue {:}: {:.2e}'.format(i+1, eig_vals[i].real))"
   ]
  },
  {
   "cell_type": "markdown",
   "id": "df2286d8",
   "metadata": {},
   "source": [
    "Eigenvector-eigenvalue hesaplamasının doğru olduğunu aşağıdaki denklemle beraber sağlayalım.\n",
    "![](https://i.imgur.com/ILzkc2N.png)"
   ]
  },
  {
   "cell_type": "markdown",
   "id": "b914b357",
   "metadata": {},
   "source": [
    "##### Adım 4: Yeni özellik alt uzayı için doğrusal ayrımcıların seçilmesi\n",
    "###### 4.1. Özdeğerlere göre özvektörlerin sıralanması\n",
    "Girişte belirtildiği gibi, sadece verileri sınıflar arasındaki ayrılabilirliği artıran bir alt uzaya yansıtmakla kalmıyor, aynı zamanda özellik uzayımızın boyutunu da azaltıyoruz (burada özvektörler bu yeni özellik alt uzayının eksenlerini oluşturacak).\n",
    "\n",
    "Ancak, özvektörler sadece yeni ekseni tanımlar, çünkü hepsinin aynı birim uzunluğu 1'e sahiptir.\n",
    "\n",
    "Bu nedenle, düşük boyutlu alt uzayımız için hangi özvektör(ler)i bırakmak istediğimize karar vermek için, ilgili özvektörlerin karşılık gelen özdeğerlerine bakmamız gerekiyor. Kabaca söylemek gerekirse, en düşük özdeğere sahip olan özvektörler verilerin dağılımı hakkında en az bilgiyi taşır ve bunları bırakmak istediğimiz özvektörlerdir. Ortak bir yaklaşım, özdeğerlerin karşılıklı olarak en yüksekten en düşüğe sıralanması ve en iyi k özvektörünün seçilmesidir."
   ]
  },
  {
   "cell_type": "code",
   "execution_count": 10,
   "id": "0947075f",
   "metadata": {},
   "outputs": [
    {
     "name": "stdout",
     "output_type": "stream",
     "text": [
      "Eigenvalues in decreasing order:\n",
      "\n",
      "32.27195779972982\n",
      "0.2775668638400502\n",
      "5.114460611848271e-15\n",
      "4.532556440791274e-15\n"
     ]
    }
   ],
   "source": [
    "# (Özdeğer, özvektör) değişkenlerinin bir listesini yapın\n",
    "eig_pairs = [(np.abs(eig_vals[i]), eig_vecs[:,i]) for i in range(len(eig_vals))]\n",
    "\n",
    "#(Özdeğer, özvektör) demetlerini yüksekten düşüğe doğru sıralayın\n",
    "eig_pairs = sorted(eig_pairs, key=lambda k: k[0], reverse=True)\n",
    "\n",
    "print('Eigenvalues in decreasing order:\\n')\n",
    "for i in eig_pairs:\n",
    "    print(i[0])"
   ]
  },
  {
   "cell_type": "markdown",
   "id": "d996099d",
   "metadata": {},
   "source": [
    "Şimdi yüzde olarak ifade edelim"
   ]
  },
  {
   "cell_type": "code",
   "execution_count": 11,
   "id": "bc120c41",
   "metadata": {},
   "outputs": [
    {
     "name": "stdout",
     "output_type": "stream",
     "text": [
      "Variance explained:\n",
      "\n",
      "eigenvalue 1: 99.15%\n",
      "eigenvalue 2: 0.85%\n",
      "eigenvalue 3: 0.00%\n",
      "eigenvalue 4: 0.00%\n"
     ]
    }
   ],
   "source": [
    "print('Variance explained:\\n')\n",
    "eigv_sum = sum(eig_vals)\n",
    "for i,j in enumerate(eig_pairs):\n",
    "    print('eigenvalue {0:}: {1:.2%}'.format(i+1, (j[0]/eigv_sum).real))"
   ]
  },
  {
   "cell_type": "markdown",
   "id": "35a18233",
   "metadata": {},
   "source": [
    "###### 4.2. En büyük özdeğerlere sahip k özvektörünü seçme\n",
    "Özdeğerleri azalan sıraya göre sıraladıktan sonra, şimdi d×k boyutlu özvektör matrisimiz W'yi oluşturma zamanı geldi (burada 4×2: en bilgilendirici iki özçiftine dayanarak). Bu şekilde, başlangıçta 4-boyutlu özellik uzayını 2-boyutlu bir özellik alt uzayına indiriyoruz."
   ]
  },
  {
   "cell_type": "code",
   "execution_count": 12,
   "id": "abd04f12",
   "metadata": {},
   "outputs": [
    {
     "name": "stdout",
     "output_type": "stream",
     "text": [
      "Matrix W:\n",
      " [[ 0.2049 -0.009 ]\n",
      " [ 0.3871 -0.589 ]\n",
      " [-0.5465  0.2543]\n",
      " [-0.7138 -0.767 ]]\n"
     ]
    }
   ],
   "source": [
    "W = np.hstack((eig_pairs[0][1].reshape(4,1), eig_pairs[1][1].reshape(4,1)))\n",
    "print('Matrix W:\\n', W.real)"
   ]
  },
  {
   "cell_type": "markdown",
   "id": "7b36f208",
   "metadata": {},
   "source": [
    "##### Adım 5: Örnekleri yeni alt uzaya dönüştürme\n",
    "Son adımda, hesapladığımız 4×2 boyutlu matris W'yi kullanarak örneklerimizi yeni alt uzaya dönüştürmek için aşağıdaki denklemi kullanırız:\n",
    "\n",
    "![](https://i.imgur.com/3r7lOVK.png)"
   ]
  },
  {
   "cell_type": "code",
   "execution_count": 13,
   "id": "0bb9361b",
   "metadata": {},
   "outputs": [],
   "source": [
    "X_lda = X.dot(W)\n",
    "assert X_lda.shape == (150,2), \"The matrix is not 150x2 dimensional.\""
   ]
  },
  {
   "cell_type": "code",
   "execution_count": 14,
   "id": "a1e05398",
   "metadata": {},
   "outputs": [
    {
     "data": {
      "image/png": "[encoded data removed]",
      "text/plain": [
       "<Figure size 640x480 with 1 Axes>"
      ]
     },
     "metadata": {},
     "output_type": "display_data"
    }
   ],
   "source": [
    "from matplotlib import pyplot as plt\n",
    "\n",
    "def plot_step_lda():\n",
    "\n",
    "    ax = plt.subplot(111)\n",
    "    for label,marker,color in zip(\n",
    "        range(1,4),('^', 's', 'o'),('blue', 'red', 'green')):\n",
    "\n",
    "        plt.scatter(x=X_lda[:,0].real[y == label],\n",
    "                y=X_lda[:,1].real[y == label],\n",
    "                marker=marker,\n",
    "                color=color,\n",
    "                alpha=0.5,\n",
    "                label=label_dict[label]\n",
    "                )\n",
    "\n",
    "    plt.xlabel('LD1')\n",
    "    plt.ylabel('LD2')\n",
    "\n",
    "    leg = plt.legend(loc='upper right', fancybox=True)\n",
    "    leg.get_frame().set_alpha(0.5)\n",
    "    plt.title('LDA: Iris projection onto the first 2 linear discriminants')\n",
    "\n",
    "    # hide axis ticks\n",
    "    plt.tick_params(axis=\"both\", which=\"both\", bottom=\"off\", top=\"off\",  \n",
    "            labelbottom=\"on\", left=\"off\", right=\"off\", labelleft=\"on\")\n",
    "\n",
    "    # remove axis spines\n",
    "    ax.spines[\"top\"].set_visible(False)  \n",
    "    ax.spines[\"right\"].set_visible(False)\n",
    "    ax.spines[\"bottom\"].set_visible(False)\n",
    "    ax.spines[\"left\"].set_visible(False)    \n",
    "\n",
    "    plt.grid()\n",
    "    plt.tight_layout\n",
    "    plt.show()\n",
    "\n",
    "plot_step_lda()"
   ]
  },
  {
   "cell_type": "code",
   "execution_count": null,
   "id": "ad4eda4f",
   "metadata": {},
   "outputs": [],
   "source": []
  }
 ],
 "metadata": {
  "kernelspec": {
   "display_name": "Python 3 (ipykernel)",
   "language": "python",
   "name": "python3"
  },
  "language_info": {
   "codemirror_mode": {
    "name": "ipython",
    "version": 3
   },
   "file_extension": ".py",
   "mimetype": "text/x-python",
   "name": "python",
   "nbconvert_exporter": "python",
   "pygments_lexer": "ipython3",
   "version": "3.11.3"
  }
 },
 "nbformat": 4,
 "nbformat_minor": 5
}
